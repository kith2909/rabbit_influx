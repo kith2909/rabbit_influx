{
 "cells": [
  {
   "cell_type": "code",
   "execution_count": 7,
   "metadata": {},
   "outputs": [],
   "source": [
    "import pandas as pd\n",
    "import numpy as np"
   ]
  },
  {
   "cell_type": "code",
   "execution_count": 8,
   "metadata": {},
   "outputs": [
    {
     "name": "stdout",
     "output_type": "stream",
     "text": [
      "<class 'pandas.core.frame.DataFrame'>\n",
      "RangeIndex: 1000 entries, 0 to 999\n",
      "Data columns (total 30 columns):\n",
      " #   Column              Non-Null Count  Dtype \n",
      "---  ------              --------------  ----- \n",
      " 0   Unnamed: 0          1000 non-null   int64 \n",
      " 1   $schema             1000 non-null   object\n",
      " 2   id                  1000 non-null   int64 \n",
      " 3   type                1000 non-null   object\n",
      " 4   namespace           1000 non-null   int64 \n",
      " 5   title               1000 non-null   object\n",
      " 6   comment             883 non-null    object\n",
      " 7   timestamp           1000 non-null   int64 \n",
      " 8   user                1000 non-null   object\n",
      " 9   bot                 1000 non-null   bool  \n",
      " 10  minor               1000 non-null   bool  \n",
      " 11  patrolled           698 non-null    object\n",
      " 12  server_url          1000 non-null   object\n",
      " 13  server_name         1000 non-null   object\n",
      " 14  server_script_path  1000 non-null   object\n",
      " 15  wiki                1000 non-null   object\n",
      " 16  parsedcomment       883 non-null    object\n",
      " 17  meta_domain         1000 non-null   object\n",
      " 18  meta_uri            1000 non-null   object\n",
      " 19  meta_request_id     1000 non-null   object\n",
      " 20  meta_stream         1000 non-null   object\n",
      " 21  meta_topic          1000 non-null   object\n",
      " 22  meta_dt             1000 non-null   object\n",
      " 23  meta_partition      1000 non-null   int64 \n",
      " 24  meta_offset         1000 non-null   int64 \n",
      " 25  meta_id             1000 non-null   object\n",
      " 26  length_old          1000 non-null   int64 \n",
      " 27  length_new          1000 non-null   int64 \n",
      " 28  revision_old        1000 non-null   int64 \n",
      " 29  revision_new        1000 non-null   int64 \n",
      "dtypes: bool(2), int64(10), object(18)\n",
      "memory usage: 220.8+ KB\n"
     ]
    }
   ],
   "source": [
    "df = pd.read_csv('de_challenge_sample_data.csv')\n",
    "df.info()"
   ]
  },
  {
   "cell_type": "code",
   "execution_count": null,
   "metadata": {},
   "outputs": [],
   "source": [
    "df_de = df[df.wiki==\"dewiki\"]\n",
    "df_de"
   ]
  },
  {
   "cell_type": "code",
   "execution_count": 10,
   "metadata": {},
   "outputs": [],
   "source": [
    "import json"
   ]
  },
  {
   "cell_type": "code",
   "execution_count": 20,
   "metadata": {},
   "outputs": [
    {
     "data": {
      "text/plain": [
       "'wikidatawiki'"
      ]
     },
     "execution_count": 20,
     "metadata": {},
     "output_type": "execute_result"
    }
   ],
   "source": [
    "\n",
    "data = json.loads(json.dumps({'Unnamed: 0': 0, '$schema': '/mediawiki/recentchange/1.0.0', 'id': 1389063108, 'type': 'edit', 'namespace': 0, 'title': 'Q3219927', 'comment': '/* wbsetqualifier-add:1| */ [[Property:P1352]]: 440', 'timestamp': 1611249080, 'user': 'CyclingInitBot', 'bot': True, 'minor': False, 'patrolled': True, 'server_url': 'https://www.wikidata.org', 'server_name': 'www.wikidata.org', 'server_script_path': '/w', 'wiki': 'wikidatawiki', 'parsedcomment': '\\u200e<span dir=\"auto\"><span class=\"autocomment\">Added qualifier: </span></span> <a href=\"/wiki/Property:P1352\" title=\"Property:P1352\">Property:P1352</a>: 440', 'meta_domain': 'www.wikidata.org', 'meta_uri': 'https://www.wikidata.org/wiki/Q3219927', 'meta_request_id': 'YAm1twpAAMAAAhtaQToAAAEN', 'meta_stream': 'mediawiki.recentchange', 'meta_topic': 'eqiad.mediawiki.recentchange', 'meta_dt': '2021-01-21T17:11:20Z', 'meta_partition': 0, 'meta_offset': 2887301766, 'meta_id': 'c8431837-c14c-4fe5-a14c-59dc12602540', 'length_old': 40890, 'length_new': 41210, 'revision_old': 1345601851, 'revision_new': 1345601863}))\n",
    "data['wiki']"
   ]
  },
  {
   "cell_type": "code",
   "execution_count": 21,
   "metadata": {},
   "outputs": [
    {
     "name": "stdout",
     "output_type": "stream",
     "text": [
      "Unnamed: 0 0\n",
      "$schema /mediawiki/recentchange/1.0.0\n",
      "id 1389063108\n",
      "type edit\n",
      "namespace 0\n",
      "title Q3219927\n",
      "comment /* wbsetqualifier-add:1| */ [[Property:P1352]]: 440\n",
      "timestamp 1611249080\n",
      "user CyclingInitBot\n",
      "bot True\n",
      "minor False\n",
      "patrolled True\n",
      "server_url https://www.wikidata.org\n",
      "server_name www.wikidata.org\n",
      "server_script_path /w\n",
      "wiki wikidatawiki\n",
      "parsedcomment ‎<span dir=\"auto\"><span class=\"autocomment\">Added qualifier: </span></span> <a href=\"/wiki/Property:P1352\" title=\"Property:P1352\">Property:P1352</a>: 440\n",
      "meta_domain www.wikidata.org\n",
      "meta_uri https://www.wikidata.org/wiki/Q3219927\n",
      "meta_request_id YAm1twpAAMAAAhtaQToAAAEN\n",
      "meta_stream mediawiki.recentchange\n",
      "meta_topic eqiad.mediawiki.recentchange\n",
      "meta_dt 2021-01-21T17:11:20Z\n",
      "meta_partition 0\n",
      "meta_offset 2887301766\n",
      "meta_id c8431837-c14c-4fe5-a14c-59dc12602540\n",
      "length_old 40890\n",
      "length_new 41210\n",
      "revision_old 1345601851\n",
      "revision_new 1345601863\n"
     ]
    }
   ],
   "source": [
    "for key, value in data.items():\n",
    "    print(key, value)"
   ]
  }
 ],
 "metadata": {
  "kernelspec": {
   "display_name": "base",
   "language": "python",
   "name": "python3"
  },
  "language_info": {
   "codemirror_mode": {
    "name": "ipython",
    "version": 3
   },
   "file_extension": ".py",
   "mimetype": "text/x-python",
   "name": "python",
   "nbconvert_exporter": "python",
   "pygments_lexer": "ipython3",
   "version": "3.11.4"
  },
  "orig_nbformat": 4
 },
 "nbformat": 4,
 "nbformat_minor": 2
}
